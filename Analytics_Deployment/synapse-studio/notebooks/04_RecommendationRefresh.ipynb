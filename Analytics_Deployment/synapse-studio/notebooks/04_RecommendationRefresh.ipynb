{
  "metadata": {
    "saveOutput": true,
    "language_info": {
      "name": "python"
    }
  },
  "nbformat": 4,
  "nbformat_minor": 2,
  "cells": [
    {
      "cell_type": "markdown",
      "metadata": {},
      "source": [
        "## Recommendation Refresh\n",
        "---\n",
        "This script uses the trained ALS model to compute recommendations for targeted users who have new data or signals since the last run of the script.  \n",
        ""
      ],
      "attachments": {}
    },
    {
      "cell_type": "code",
      "execution_count": 3,
      "outputs": [],
      "metadata": {},
      "source": [
        "from pyspark.ml.recommendation import ALSModel\n",
        "from pyspark.ml.recommendation import ALS\n",
        "from pyspark.sql import SparkSession\n",
        "from pyspark.sql.types import *\n",
        "from pyspark.sql.functions import *\n",
        "from pyspark.ml.feature import  StringIndexer, IndexToString"
      ],
      "attachments": {}
    },
    {
      "cell_type": "code",
      "execution_count": 4,
      "outputs": [],
      "metadata": {},
      "source": [
        "model_reload = ALSModel.load(\"retailai_recommendation_model\")"
      ],
      "attachments": {}
    },
    {
      "cell_type": "code",
      "execution_count": 30,
      "outputs": [],
      "metadata": {},
      "source": [
        "get_top_users = spark.read.table(\"retailaidb.cleaned_dataset\").groupBy([\"user_id\", \"user_session\"]).count().groupBy([\"user_id\"]).count().orderBy(\"count\", ascending=False)"
      ],
      "attachments": {}
    },
    {
      "cell_type": "code",
      "execution_count": 33,
      "outputs": [],
      "metadata": {},
      "source": [
        "try:\n",
        "    top_user_ids = spark.read.table(\"top_users\")\n",
        "except:\n",
        "    top_user_ids = get_top_users.select(\"user_id\").limit(10)\n",
        "    top_user_ids.write.saveAsTable(\"top_users\")"
      ],
      "attachments": {}
    },
    {
      "cell_type": "code",
      "execution_count": 33,
      "outputs": [],
      "metadata": {},
      "source": [
        "preds_alt = model_reload.recommendForUserSubset(top_user_ids, 5).select(\"user_id\", col(\"recommendations\"))"
      ],
      "attachments": {}
    },
    {
      "cell_type": "code",
      "execution_count": 30,
      "outputs": [],
      "metadata": {},
      "source": [
        "user_preds_df = preds_alt.select(\"user_id\",explode(\"recommendations\").alias(\"recommendations\")) \\\n",
        "                                    .select(\"user_id\", \"recommendations.product_id\", \"recommendations.rating\").orderBy(\"rating\", ascending=False)"
      ],
      "attachments": {}
    },
    {
      "cell_type": "code",
      "execution_count": null,
      "outputs": [],
      "metadata": {},
      "source": [
        "final_recommendations = user_preds_df.groupBy(\"user_id\").agg(collect_set(\"product_id\").alias(\"product_ids\"))"
      ],
      "attachments": {}
    },
    {
      "cell_type": "code",
      "execution_count": 32,
      "outputs": [],
      "metadata": {},
      "source": [
        "final_recommendations.write.format(\"cosmos.oltp\")\\\n",
        "    .option(\"spark.synapse.linkedService\", \"retail_ai_cosmos_synapse_link\")\\\n",
        "    .option(\"spark.cosmos.container\", \"user_recommendations\")\\\n",
        "    .option(\"spark.cosmos.write.upsertEnabled\", \"true\")\\\n",
        "    .mode('append')\\\n",
        "    .save()"
      ],
      "attachments": {}
    }
  ]
}