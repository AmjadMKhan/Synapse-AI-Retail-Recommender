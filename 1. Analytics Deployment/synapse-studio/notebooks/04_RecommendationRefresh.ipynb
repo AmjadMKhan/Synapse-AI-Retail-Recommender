{
  "cells": [
    {
      "cell_type": "markdown",
      "metadata": {},
      "source": [
        "Copyright (c) Microsoft Corporation. \n",
        "Licensed under the MIT license. \n",
        "## Recommendation Refresh\n",
        "---\n",
        "This script uses the trained ALS model to compute recommendations for targeted users who have new data or signals since the last run of the script.  \n",
        ""
      ],
      "attachments": {}
    },
    {
      "cell_type": "code",
      "execution_count": 4,
      "outputs": [],
      "metadata": {},
      "source": [
        "from pyspark.ml.recommendation import ALSModel\n",
        "from pyspark.ml.recommendation import ALS\n",
        "from pyspark.sql import SparkSession\n",
        "from pyspark.sql.types import *\n",
        "from pyspark.sql.functions import *\n",
        "from pyspark.ml.feature import  StringIndexer, IndexToString"
      ],
      "attachments": {}
    },
    {
      "cell_type": "code",
      "execution_count": null,
      "metadata": {},
      "outputs": [],
      "source": [
        "try:\n",
        "    spark.sql(\"CREATE DATABASE retailaidb\")\n",
        "except:\n",
        "    print(\"Database already exists\")"
      ]
    },
    {
      "cell_type": "code",
      "execution_count": 5,
      "outputs": [],
      "metadata": {},
      "source": [
        "model_reload = ALSModel.load(\"retailai_recommendation_model\")"
      ],
      "attachments": {}
    },
    {
      "cell_type": "code",
      "execution_count": 7,
      "outputs": [],
      "metadata": {},
      "source": [
        "get_top_users = spark.read.table(\"retailaidb.cleaned_dataset\").groupBy([\"user_id\", \"user_session\"]).count().groupBy([\"user_id\"]).count().orderBy(\"count\", ascending=False)"
      ],
      "attachments": {}
    },
    {
      "cell_type": "code",
      "execution_count": 8,
      "outputs": [],
      "metadata": {},
      "source": [
        "top_user_ids = get_top_users.select(\"user_id\").limit(10)"
      ],
      "attachments": {}
    },
    {
      "cell_type": "code",
      "execution_count": 9,
      "outputs": [],
      "metadata": {},
      "source": [
        "preds_alt = model_reload.recommendForUserSubset(top_user_ids, 5).select(\"user_id\", col(\"recommendations\"))"
      ],
      "attachments": {}
    },
    {
      "cell_type": "code",
      "execution_count": 29,
      "outputs": [],
      "metadata": {},
      "source": [
        "user_preds_df = preds_alt.select(\"user_id\",explode(\"recommendations\").alias(\"recommendations\")) \\\n",
        "                                    .select(\"user_id\", \"recommendations.product_id\", \"recommendations.rating\").orderBy(\"rating\", ascending=False)"
      ],
      "attachments": {}
    },
    {
      "cell_type": "code",
      "execution_count": 31,
      "outputs": [],
      "metadata": {},
      "source": [
        "final_recommendations = get_prod_data_df.groupBy(\"user_id\").agg(collect_set(\"product_id\").alias(\"product_ids\")) \\\n",
        "                                                    .select(\"user_id\", col(\"product_ids\").cast(\"string\"))"
      ],
      "attachments": {}
    },
    {
      "cell_type": "code",
      "execution_count": 33,
      "outputs": [],
      "metadata": {},
      "source": [
        "final_recommendations.withColumn(\"updated_ts\", lit(current_timestamp()).cast(\"timestamp\")) \\\n",
        "                                    .select(col(\"user_id\").cast(\"string\").alias(\"user_id\"), \"product_ids\", \"updated_ts\") \\\n",
        "                                    .write.saveAsTable(\"retailaidb.top_shopper_recommendation_summary\", mode=\"overwrite\")"
      ],
      "attachments": {}
    }
  ],
  "metadata": {
    "saveOutput": true,
    "language_info": {
      "name": "python"
    }
  },
  "nbformat": 4,
  "nbformat_minor": 2
}